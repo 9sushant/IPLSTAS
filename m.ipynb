{
 "cells": [
  {
   "cell_type": "code",
   "execution_count": 2,
   "metadata": {},
   "outputs": [
    {
     "name": "stdout",
     "output_type": "stream",
     "text": [
      "Requirement already satisfied: beautifulsoup4 in /Users/sushantgaurav/anaconda3/lib/python3.11/site-packages (4.12.3)\n",
      "Requirement already satisfied: requests in /Users/sushantgaurav/anaconda3/lib/python3.11/site-packages (2.32.3)\n",
      "Requirement already satisfied: pandas in /Users/sushantgaurav/anaconda3/lib/python3.11/site-packages (2.1.4)\n",
      "Requirement already satisfied: numpy in /Users/sushantgaurav/anaconda3/lib/python3.11/site-packages (1.26.4)\n",
      "Collecting InquirerPy\n",
      "  Downloading InquirerPy-0.3.4-py3-none-any.whl.metadata (8.1 kB)\n",
      "Requirement already satisfied: soupsieve>1.2 in /Users/sushantgaurav/anaconda3/lib/python3.11/site-packages (from beautifulsoup4) (2.4)\n",
      "Requirement already satisfied: charset-normalizer<4,>=2 in /Users/sushantgaurav/anaconda3/lib/python3.11/site-packages (from requests) (3.4.1)\n",
      "Requirement already satisfied: idna<4,>=2.5 in /Users/sushantgaurav/anaconda3/lib/python3.11/site-packages (from requests) (3.4)\n",
      "Requirement already satisfied: urllib3<3,>=1.21.1 in /Users/sushantgaurav/anaconda3/lib/python3.11/site-packages (from requests) (1.26.16)\n",
      "Requirement already satisfied: certifi>=2017.4.17 in /Users/sushantgaurav/anaconda3/lib/python3.11/site-packages (from requests) (2023.7.22)\n",
      "Requirement already satisfied: python-dateutil>=2.8.2 in /Users/sushantgaurav/anaconda3/lib/python3.11/site-packages (from pandas) (2.9.0.post0)\n",
      "Requirement already satisfied: pytz>=2020.1 in /Users/sushantgaurav/anaconda3/lib/python3.11/site-packages (from pandas) (2023.3.post1)\n",
      "Requirement already satisfied: tzdata>=2022.1 in /Users/sushantgaurav/anaconda3/lib/python3.11/site-packages (from pandas) (2023.3)\n",
      "Collecting pfzy<0.4.0,>=0.3.1 (from InquirerPy)\n",
      "  Downloading pfzy-0.3.4-py3-none-any.whl.metadata (4.9 kB)\n",
      "Requirement already satisfied: prompt-toolkit<4.0.0,>=3.0.1 in /Users/sushantgaurav/anaconda3/lib/python3.11/site-packages (from InquirerPy) (3.0.36)\n",
      "Requirement already satisfied: wcwidth in /Users/sushantgaurav/anaconda3/lib/python3.11/site-packages (from prompt-toolkit<4.0.0,>=3.0.1->InquirerPy) (0.2.5)\n",
      "Requirement already satisfied: six>=1.5 in /Users/sushantgaurav/anaconda3/lib/python3.11/site-packages (from python-dateutil>=2.8.2->pandas) (1.16.0)\n",
      "Downloading InquirerPy-0.3.4-py3-none-any.whl (67 kB)\n",
      "Downloading pfzy-0.3.4-py3-none-any.whl (8.5 kB)\n",
      "Installing collected packages: pfzy, InquirerPy\n",
      "Successfully installed InquirerPy-0.3.4 pfzy-0.3.4\n",
      "\n",
      "\u001b[1m[\u001b[0m\u001b[34;49mnotice\u001b[0m\u001b[1;39;49m]\u001b[0m\u001b[39;49m A new release of pip is available: \u001b[0m\u001b[31;49m25.0\u001b[0m\u001b[39;49m -> \u001b[0m\u001b[32;49m25.0.1\u001b[0m\n",
      "\u001b[1m[\u001b[0m\u001b[34;49mnotice\u001b[0m\u001b[1;39;49m]\u001b[0m\u001b[39;49m To update, run: \u001b[0m\u001b[32;49mpip install --upgrade pip\u001b[0m\n",
      "Note: you may need to restart the kernel to use updated packages.\n"
     ]
    }
   ],
   "source": [
    "pip install beautifulsoup4 requests pandas numpy InquirerPy  \n"
   ]
  },
  {
   "cell_type": "code",
   "execution_count": 28,
   "metadata": {},
   "outputs": [
    {
     "name": "stdout",
     "output_type": "stream",
     "text": [
      "Requirement already satisfied: selenium in /Users/sushantgaurav/anaconda3/lib/python3.11/site-packages (4.29.0)\n",
      "Requirement already satisfied: webdriver-manager in /Users/sushantgaurav/anaconda3/lib/python3.11/site-packages (4.0.2)\n",
      "Requirement already satisfied: urllib3<3,>=1.26 in /Users/sushantgaurav/anaconda3/lib/python3.11/site-packages (from urllib3[socks]<3,>=1.26->selenium) (1.26.16)\n",
      "Requirement already satisfied: trio~=0.17 in /Users/sushantgaurav/anaconda3/lib/python3.11/site-packages (from selenium) (0.29.0)\n",
      "Requirement already satisfied: trio-websocket~=0.9 in /Users/sushantgaurav/anaconda3/lib/python3.11/site-packages (from selenium) (0.12.2)\n",
      "Requirement already satisfied: certifi>=2021.10.8 in /Users/sushantgaurav/anaconda3/lib/python3.11/site-packages (from selenium) (2023.7.22)\n",
      "Requirement already satisfied: typing_extensions~=4.9 in /Users/sushantgaurav/anaconda3/lib/python3.11/site-packages (from selenium) (4.12.2)\n",
      "Requirement already satisfied: websocket-client~=1.8 in /Users/sushantgaurav/anaconda3/lib/python3.11/site-packages (from selenium) (1.8.0)\n",
      "Requirement already satisfied: requests in /Users/sushantgaurav/anaconda3/lib/python3.11/site-packages (from webdriver-manager) (2.32.3)\n",
      "Requirement already satisfied: python-dotenv in /Users/sushantgaurav/anaconda3/lib/python3.11/site-packages (from webdriver-manager) (1.0.1)\n",
      "Requirement already satisfied: packaging in /Users/sushantgaurav/anaconda3/lib/python3.11/site-packages (from webdriver-manager) (23.2)\n",
      "Requirement already satisfied: attrs>=23.2.0 in /Users/sushantgaurav/anaconda3/lib/python3.11/site-packages (from trio~=0.17->selenium) (25.1.0)\n",
      "Requirement already satisfied: sortedcontainers in /Users/sushantgaurav/anaconda3/lib/python3.11/site-packages (from trio~=0.17->selenium) (2.4.0)\n",
      "Requirement already satisfied: idna in /Users/sushantgaurav/anaconda3/lib/python3.11/site-packages (from trio~=0.17->selenium) (3.4)\n",
      "Requirement already satisfied: outcome in /Users/sushantgaurav/anaconda3/lib/python3.11/site-packages (from trio~=0.17->selenium) (1.3.0.post0)\n",
      "Requirement already satisfied: sniffio>=1.3.0 in /Users/sushantgaurav/anaconda3/lib/python3.11/site-packages (from trio~=0.17->selenium) (1.3.1)\n",
      "Requirement already satisfied: wsproto>=0.14 in /Users/sushantgaurav/anaconda3/lib/python3.11/site-packages (from trio-websocket~=0.9->selenium) (1.2.0)\n",
      "Requirement already satisfied: PySocks!=1.5.7,<2.0,>=1.5.6 in /Users/sushantgaurav/anaconda3/lib/python3.11/site-packages (from urllib3[socks]<3,>=1.26->selenium) (1.7.1)\n",
      "Requirement already satisfied: charset-normalizer<4,>=2 in /Users/sushantgaurav/anaconda3/lib/python3.11/site-packages (from requests->webdriver-manager) (3.4.1)\n",
      "Requirement already satisfied: h11<1,>=0.9.0 in /Users/sushantgaurav/anaconda3/lib/python3.11/site-packages (from wsproto>=0.14->trio-websocket~=0.9->selenium) (0.14.0)\n",
      "\n",
      "\u001b[1m[\u001b[0m\u001b[34;49mnotice\u001b[0m\u001b[1;39;49m]\u001b[0m\u001b[39;49m A new release of pip is available: \u001b[0m\u001b[31;49m25.0\u001b[0m\u001b[39;49m -> \u001b[0m\u001b[32;49m25.0.1\u001b[0m\n",
      "\u001b[1m[\u001b[0m\u001b[34;49mnotice\u001b[0m\u001b[1;39;49m]\u001b[0m\u001b[39;49m To update, run: \u001b[0m\u001b[32;49mpip install --upgrade pip\u001b[0m\n",
      "Note: you may need to restart the kernel to use updated packages.\n"
     ]
    }
   ],
   "source": [
    "pip install selenium webdriver-manager"
   ]
  },
  {
   "cell_type": "code",
   "execution_count": 26,
   "metadata": {},
   "outputs": [
    {
     "name": "stdout",
     "output_type": "stream",
     "text": [
      "None\n",
      "200\n",
      "                    \n",
      "<!DOCTYPE html>\n",
      "<html lang=\"en\">\n",
      "<head>\n",
      "    <meta charset=\"UTF-8\">\n",
      "    <title id=\"page_title\" data-page-title=\"IPL 2019 Stats & Awards | All Time Records | IPLT20\">IPL 2019 Stats & Awards | All Time Records | IPLT20</title>\n",
      "    <link rel=\"canonical\" href=\"https://www.iplt20.com/stats/2019\">\n",
      "    <meta http-equiv=\"X-UA-Compatible\" content=\"IE=edge\">\n",
      "    <!-- <meta name=\"viewport\" content=\"width=device-width, user-scalable=no\" /> -->\n",
      "    <meta name=\"csrf-token\" content=\"UGa51B7\n"
     ]
    }
   ],
   "source": [
    "import requests  \n",
    "from bs4 import BeautifulSoup  # Import the BeautifulSoup class  \n",
    "\n",
    "url = \"https://www.iplt20.com/stats/2019\"  \n",
    "r = requests.get(url)  \n",
    "soup = BeautifulSoup(r.text, 'lxml')  \n",
    "table = soup.find('table', class_=\"st-table statsTable ng-scope archiveseason\")\n",
    "print(table)   \n",
    "\n",
    "\n",
    "print(r.status_code)  # Should be 200\n",
    "print(r.text[:500])   # Inspect raw HTML to confirm table exists"
   ]
  },
  {
   "cell_type": "code",
   "execution_count": 40,
   "metadata": {},
   "outputs": [
    {
     "name": "stdout",
     "output_type": "stream",
     "text": [
      "Data saved to ipl_2019_stats.csv\n"
     ]
    }
   ],
   "source": [
    "from selenium import webdriver\n",
    "from selenium.webdriver.common.by import By\n",
    "from selenium.webdriver.support.ui import WebDriverWait\n",
    "from selenium.webdriver.support import expected_conditions as EC\n",
    "import csv\n",
    "\n",
    "url = \"https://www.iplt20.com/stats/2019\"\n",
    "driver = webdriver.Chrome()\n",
    "driver.get(url)\n",
    "\n",
    "try:\n",
    "    # Wait for table to load\n",
    "    table = WebDriverWait(driver, 10).until(\n",
    "        EC.presence_of_element_located((By.CSS_SELECTOR, \".st-table.statsTable\"))\n",
    "    )\n",
    "    \n",
    "    # Process table content\n",
    "    lines = table.text.split('\\n')\n",
    "    headers = lines[0].split()\n",
    "    data = []\n",
    "    \n",
    "    i = 1  # Start after headers\n",
    "    while i < len(lines):\n",
    "        if lines[i].strip().isdigit():  # New player entry\n",
    "            pos = lines[i].strip()\n",
    "            i += 1\n",
    "            player = lines[i].strip()\n",
    "            i += 1\n",
    "            team = lines[i].strip()\n",
    "            i += 1\n",
    "            stats = lines[i].strip().split()\n",
    "            \n",
    "            # Combine player and team into single column\n",
    "            player_info = f\"{player} ({team})\"\n",
    "            row = [pos, player_info] + stats\n",
    "            data.append(row)\n",
    "            i += 1\n",
    "        else:\n",
    "            i += 1  # Skip non-data lines\n",
    "    \n",
    "    # Write to CSV\n",
    "    with open(\"ipl_2019_stats.csv\", \"w\", newline=\"\", encoding=\"utf-8\") as f:\n",
    "        writer = csv.writer(f)\n",
    "        writer.writerow(headers)\n",
    "        writer.writerows(data)\n",
    "        \n",
    "    print(\"Data saved to ipl_2019_stats.csv\")\n",
    "finally:\n",
    "    driver.quit()"
   ]
  }
 ],
 "metadata": {
  "kernelspec": {
   "display_name": "base",
   "language": "python",
   "name": "python3"
  },
  "language_info": {
   "codemirror_mode": {
    "name": "ipython",
    "version": 3
   },
   "file_extension": ".py",
   "mimetype": "text/x-python",
   "name": "python",
   "nbconvert_exporter": "python",
   "pygments_lexer": "ipython3",
   "version": "3.11.5"
  }
 },
 "nbformat": 4,
 "nbformat_minor": 2
}
